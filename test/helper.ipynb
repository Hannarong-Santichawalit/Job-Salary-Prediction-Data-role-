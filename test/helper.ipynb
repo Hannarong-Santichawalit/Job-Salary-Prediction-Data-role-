{
 "cells": [
  {
   "cell_type": "code",
   "execution_count": null,
   "id": "b0ab25c2-4c8e-46af-97a3-a1c34e512680",
   "metadata": {
    "vscode": {
     "languageId": "python"
    }
   },
   "outputs": [],
   "source": [
    "print(\"Heloo\")"
   ]
  },
  {
   "cell_type": "code",
   "execution_count": null,
   "id": "824b7962",
   "metadata": {
    "vscode": {
     "languageId": "python"
    }
   },
   "outputs": [],
   "source": []
  }
 ],
 "metadata": {
  "kernelspec": {
   "display_name": "",
   "name": ""
  },
  "language_info": {
   "name": ""
  }
 },
 "nbformat": 4,
 "nbformat_minor": 5
}
